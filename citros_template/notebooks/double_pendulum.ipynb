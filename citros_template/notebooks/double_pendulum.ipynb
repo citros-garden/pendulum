{
 "cells": [
  {
   "cell_type": "code",
   "execution_count": 2,
   "metadata": {},
   "outputs": [],
   "source": [
    "from citros_data_analysis import data_access as da"
   ]
  },
  {
   "cell_type": "markdown",
   "metadata": {},
   "source": [
    "# Double Pendulum"
   ]
  },
  {
   "cell_type": "markdown",
   "metadata": {},
   "source": [
    "Let's create CitrosDB obkect to query and plot the results of the simulation. Let's specify that we would like to see batches that were created with double pendulum simulation scenario:"
   ]
  },
  {
   "cell_type": "code",
   "execution_count": 3,
   "metadata": {},
   "outputs": [],
   "source": [
    "citros = da.CitrosDB(simulation = 'simulation_double_pendulum')"
   ]
  },
  {
   "cell_type": "code",
   "execution_count": 30,
   "metadata": {},
   "outputs": [
    {
     "data": {
      "text/plain": [
       "{'cloud_test_double_pendulum_2': {'id': '8126c92c-e6c2-4c92-a76c-b2f8145482b9',\n",
       "  'sid': [0],\n",
       "  'created_at': '2023-11-26T08:32:42.302527+00:00',\n",
       "  'updated_at': '2023-11-26T12:54:58.590765+00:00',\n",
       "  'status': 'DONE',\n",
       "  'data_status': 'LOADED',\n",
       "  'data_last_access': '2023-11-26T12:54:58.590765+00:00',\n",
       "  'tag': 'afbb2ce8450c715fff4d694bfe2967541c7031e8',\n",
       "  'simulation': 'simulation_double_pendulum',\n",
       "  'message': 'new_data_structure',\n",
       "  'parallelism': 1,\n",
       "  'completions': 1,\n",
       "  'cpu': 2,\n",
       "  'gpu': 0,\n",
       "  'memory': '265',\n",
       "  'repo': 'pendulum',\n",
       "  'link': 'https://citros.io/pendulum/data/runs/simulation_double_pendulum/cloud_test_double_pendulum_2'},\n",
       " 'cloud_test_double_pendulum_1': {'id': 'e252060f-200a-4d63-afef-6e64827b5082',\n",
       "  'sid': [0],\n",
       "  'created_at': '2023-11-22T13:45:49.336571+00:00',\n",
       "  'updated_at': '2023-11-26T08:51:08.235473+00:00',\n",
       "  'status': 'DONE',\n",
       "  'data_status': 'LOADED',\n",
       "  'data_last_access': '2023-11-26T08:50:51.611906+00:00',\n",
       "  'tag': 'f5cb8e822b32677232cbc398febb27108b074d72',\n",
       "  'simulation': 'simulation_double_pendulum',\n",
       "  'message': 'cloud_test',\n",
       "  'parallelism': 1,\n",
       "  'completions': 1,\n",
       "  'cpu': 2,\n",
       "  'gpu': 0,\n",
       "  'memory': '265',\n",
       "  'repo': 'pendulum',\n",
       "  'link': 'https://citros.io/pendulum/data/runs/simulation_double_pendulum/cloud_test_double_pendulum_1'},\n",
       " 'cloud_test_double_pendulum': {'id': '57ed4d6b-5204-4ccb-af63-2cf9c4dbc771',\n",
       "  'sid': [0],\n",
       "  'created_at': '2023-11-22T13:27:08.774161+00:00',\n",
       "  'updated_at': '2023-11-26T13:00:00.030687+00:00',\n",
       "  'status': 'SCHEDULE',\n",
       "  'data_status': 'UNLOADED',\n",
       "  'data_last_access': '2023-11-22T13:27:08.774161+00:00',\n",
       "  'tag': 'c801f4afaea1e8b9f14f7ed604308417c05c1f0b',\n",
       "  'simulation': 'simulation_double_pendulum',\n",
       "  'message': 'cloud_test',\n",
       "  'parallelism': 1,\n",
       "  'completions': 1,\n",
       "  'cpu': 2,\n",
       "  'gpu': 0,\n",
       "  'memory': '265',\n",
       "  'repo': 'pendulum',\n",
       "  'link': 'https://citros.io/pendulum/data/runs/simulation_double_pendulum/cloud_test_double_pendulum'}}"
      ]
     },
     "execution_count": 30,
     "metadata": {},
     "output_type": "execute_result"
    }
   ],
   "source": [
    "citros.search_batch()"
   ]
  },
  {
   "cell_type": "markdown",
   "metadata": {},
   "source": [
    "Let's print the names of the batches containing simulations with the status 'DONE'. This indicates that the simulations have successfully finished:"
   ]
  },
  {
   "cell_type": "code",
   "execution_count": 31,
   "metadata": {},
   "outputs": [
    {
     "data": {
      "text/plain": [
       "['cloud_test_double_pendulum_2', 'cloud_test_double_pendulum_1']"
      ]
     },
     "execution_count": 31,
     "metadata": {},
     "output_type": "execute_result"
    }
   ],
   "source": [
    "list(citros.search_batch(sid_status='DONE').keys())"
   ]
  },
  {
   "cell_type": "markdown",
   "metadata": {},
   "source": [
    "Print general information about the most recent simulation. In this simulation we have two topics: '/config' and '/coordinates':"
   ]
  },
  {
   "cell_type": "code",
   "execution_count": 33,
   "metadata": {},
   "outputs": [
    {
     "name": "stdout",
     "output_type": "stream",
     "text": [
      "{\n",
      " 'size': '470 kB',\n",
      " 'sid_count': 1,\n",
      " 'sid_list': [0],\n",
      " 'topic_count': 2,\n",
      " 'topic_list': ['/config', '/coordinates'],\n",
      " 'message_count': 1003\n",
      "}\n"
     ]
    }
   ],
   "source": [
    "citros.batch(-1).info().print()"
   ]
  },
  {
   "cell_type": "markdown",
   "metadata": {},
   "source": [
    "Topic '/config' contains initial parameters of the simulation, topic '/coordinates' contains result of the simulation. Let's look on data structure of the topic '/coordinates':"
   ]
  },
  {
   "cell_type": "code",
   "execution_count": 37,
   "metadata": {},
   "outputs": [
    {
     "name": "stdout",
     "output_type": "stream",
     "text": [
      "{\n",
      " 'size': '469 kB',\n",
      " 'sid_count': 1,\n",
      " 'sid_list': [0],\n",
      " 'topic_count': 1,\n",
      " 'topic_list': ['/coordinates'],\n",
      " 'message_count': 1001,\n",
      " 'topics': {\n",
      "   '/coordinates': {\n",
      "     'type': 'double_pendulum_interfaces/msg/DoublePendulum',\n",
      "     'data_structure': {\n",
      "       'data': {\n",
      "         't': 'float',\n",
      "         'p1': {\n",
      "           'x': 'float',\n",
      "           'y': 'float',\n",
      "           '__msgtype__': 'str'\n",
      "         },\n",
      "         'p2': {\n",
      "           'x': 'float',\n",
      "           'y': 'float',\n",
      "           '__msgtype__': 'str'\n",
      "         },\n",
      "         '__msgtype__': 'str'\n",
      "       }\n",
      "     },\n",
      "     'message_count': 1001\n",
      "   }\n",
      " }\n",
      "}\n"
     ]
    }
   ],
   "source": [
    "citros.batch(-1).topic('/coordinates').info().print()"
   ]
  },
  {
   "cell_type": "markdown",
   "metadata": {},
   "source": [
    "As we stated in the README, the result of the simulation has the following structure: there is time coordinate 'data.t' and two coordinates of the two pendulums: data.p1.x, data.p1.y, data.p2.x, data.p2.y; there is also a record about the type of the ros message:"
   ]
  },
  {
   "cell_type": "code",
   "execution_count": 39,
   "metadata": {},
   "outputs": [
    {
     "name": "stdout",
     "output_type": "stream",
     "text": [
      "{\n",
      " 't': 'float',\n",
      " 'p1': {\n",
      "   'x': 'float',\n",
      "   'y': 'float',\n",
      "   '__msgtype__': 'str'\n",
      " },\n",
      " 'p2': {\n",
      "   'x': 'float',\n",
      "   'y': 'float',\n",
      "   '__msgtype__': 'str'\n",
      " },\n",
      " '__msgtype__': 'str'\n",
      "}\n"
     ]
    }
   ],
   "source": [
    "citros.batch(-1).topic('/coordinates').info()['topics']['/coordinates']['data_structure']['data'].print()"
   ]
  },
  {
   "cell_type": "markdown",
   "metadata": {},
   "source": [
    "Let's query data by `data()` method. If we call `data()` method without arguments we get all data separated by columns.\n",
    "\n",
    "\n",
    "The output of the `data()` method is a pandas.DataFrame, so every method of the pandas.DataFrame can be applied to the result of the query.\n",
    "Here by `head()` method we left only first 5 rows of the output"
   ]
  },
  {
   "cell_type": "code",
   "execution_count": 41,
   "metadata": {},
   "outputs": [
    {
     "data": {
      "text/html": [
       "<div>\n",
       "<style scoped>\n",
       "    .dataframe tbody tr th:only-of-type {\n",
       "        vertical-align: middle;\n",
       "    }\n",
       "\n",
       "    .dataframe tbody tr th {\n",
       "        vertical-align: top;\n",
       "    }\n",
       "\n",
       "    .dataframe thead th {\n",
       "        text-align: right;\n",
       "    }\n",
       "</style>\n",
       "<table border=\"1\" class=\"dataframe\">\n",
       "  <thead>\n",
       "    <tr style=\"text-align: right;\">\n",
       "      <th></th>\n",
       "      <th>sid</th>\n",
       "      <th>rid</th>\n",
       "      <th>time</th>\n",
       "      <th>topic</th>\n",
       "      <th>type</th>\n",
       "      <th>data.t</th>\n",
       "      <th>data.__msgtype__</th>\n",
       "      <th>data.p1.x</th>\n",
       "      <th>data.p1.y</th>\n",
       "      <th>data.p1.__msgtype__</th>\n",
       "      <th>data.p2.x</th>\n",
       "      <th>data.p2.y</th>\n",
       "      <th>data.p2.__msgtype__</th>\n",
       "    </tr>\n",
       "  </thead>\n",
       "  <tbody>\n",
       "    <tr>\n",
       "      <th>0</th>\n",
       "      <td>0</td>\n",
       "      <td>0</td>\n",
       "      <td>1700987580629218032</td>\n",
       "      <td>/coordinates</td>\n",
       "      <td>double_pendulum_interfaces/msg/DoublePendulum</td>\n",
       "      <td>0.00</td>\n",
       "      <td>double_pendulum_interfaces/msg/DoublePendulum</td>\n",
       "      <td>0.040000</td>\n",
       "      <td>-0.069282</td>\n",
       "      <td>double_pendulum_interfaces/msg/PendulumCoord</td>\n",
       "      <td>0.074730</td>\n",
       "      <td>-0.266244</td>\n",
       "      <td>double_pendulum_interfaces/msg/PendulumCoord</td>\n",
       "    </tr>\n",
       "    <tr>\n",
       "      <th>1</th>\n",
       "      <td>0</td>\n",
       "      <td>1</td>\n",
       "      <td>1700987580729140344</td>\n",
       "      <td>/coordinates</td>\n",
       "      <td>double_pendulum_interfaces/msg/DoublePendulum</td>\n",
       "      <td>0.01</td>\n",
       "      <td>double_pendulum_interfaces/msg/DoublePendulum</td>\n",
       "      <td>0.039721</td>\n",
       "      <td>-0.069442</td>\n",
       "      <td>double_pendulum_interfaces/msg/PendulumCoord</td>\n",
       "      <td>0.074665</td>\n",
       "      <td>-0.266366</td>\n",
       "      <td>double_pendulum_interfaces/msg/PendulumCoord</td>\n",
       "    </tr>\n",
       "    <tr>\n",
       "      <th>2</th>\n",
       "      <td>0</td>\n",
       "      <td>2</td>\n",
       "      <td>1700987580829140627</td>\n",
       "      <td>/coordinates</td>\n",
       "      <td>double_pendulum_interfaces/msg/DoublePendulum</td>\n",
       "      <td>0.02</td>\n",
       "      <td>double_pendulum_interfaces/msg/DoublePendulum</td>\n",
       "      <td>0.038884</td>\n",
       "      <td>-0.069914</td>\n",
       "      <td>double_pendulum_interfaces/msg/PendulumCoord</td>\n",
       "      <td>0.074467</td>\n",
       "      <td>-0.266723</td>\n",
       "      <td>double_pendulum_interfaces/msg/PendulumCoord</td>\n",
       "    </tr>\n",
       "    <tr>\n",
       "      <th>3</th>\n",
       "      <td>0</td>\n",
       "      <td>3</td>\n",
       "      <td>1700987580929154725</td>\n",
       "      <td>/coordinates</td>\n",
       "      <td>double_pendulum_interfaces/msg/DoublePendulum</td>\n",
       "      <td>0.03</td>\n",
       "      <td>double_pendulum_interfaces/msg/DoublePendulum</td>\n",
       "      <td>0.037489</td>\n",
       "      <td>-0.070672</td>\n",
       "      <td>double_pendulum_interfaces/msg/PendulumCoord</td>\n",
       "      <td>0.074129</td>\n",
       "      <td>-0.267287</td>\n",
       "      <td>double_pendulum_interfaces/msg/PendulumCoord</td>\n",
       "    </tr>\n",
       "    <tr>\n",
       "      <th>4</th>\n",
       "      <td>0</td>\n",
       "      <td>4</td>\n",
       "      <td>1700987581029186190</td>\n",
       "      <td>/coordinates</td>\n",
       "      <td>double_pendulum_interfaces/msg/DoublePendulum</td>\n",
       "      <td>0.04</td>\n",
       "      <td>double_pendulum_interfaces/msg/DoublePendulum</td>\n",
       "      <td>0.035534</td>\n",
       "      <td>-0.071675</td>\n",
       "      <td>double_pendulum_interfaces/msg/PendulumCoord</td>\n",
       "      <td>0.073638</td>\n",
       "      <td>-0.268012</td>\n",
       "      <td>double_pendulum_interfaces/msg/PendulumCoord</td>\n",
       "    </tr>\n",
       "  </tbody>\n",
       "</table>\n",
       "</div>"
      ],
      "text/plain": [
       "   sid  rid                 time         topic  \\\n",
       "0    0    0  1700987580629218032  /coordinates   \n",
       "1    0    1  1700987580729140344  /coordinates   \n",
       "2    0    2  1700987580829140627  /coordinates   \n",
       "3    0    3  1700987580929154725  /coordinates   \n",
       "4    0    4  1700987581029186190  /coordinates   \n",
       "\n",
       "                                            type  data.t  \\\n",
       "0  double_pendulum_interfaces/msg/DoublePendulum    0.00   \n",
       "1  double_pendulum_interfaces/msg/DoublePendulum    0.01   \n",
       "2  double_pendulum_interfaces/msg/DoublePendulum    0.02   \n",
       "3  double_pendulum_interfaces/msg/DoublePendulum    0.03   \n",
       "4  double_pendulum_interfaces/msg/DoublePendulum    0.04   \n",
       "\n",
       "                                data.__msgtype__  data.p1.x  data.p1.y  \\\n",
       "0  double_pendulum_interfaces/msg/DoublePendulum   0.040000  -0.069282   \n",
       "1  double_pendulum_interfaces/msg/DoublePendulum   0.039721  -0.069442   \n",
       "2  double_pendulum_interfaces/msg/DoublePendulum   0.038884  -0.069914   \n",
       "3  double_pendulum_interfaces/msg/DoublePendulum   0.037489  -0.070672   \n",
       "4  double_pendulum_interfaces/msg/DoublePendulum   0.035534  -0.071675   \n",
       "\n",
       "                            data.p1.__msgtype__  data.p2.x  data.p2.y  \\\n",
       "0  double_pendulum_interfaces/msg/PendulumCoord   0.074730  -0.266244   \n",
       "1  double_pendulum_interfaces/msg/PendulumCoord   0.074665  -0.266366   \n",
       "2  double_pendulum_interfaces/msg/PendulumCoord   0.074467  -0.266723   \n",
       "3  double_pendulum_interfaces/msg/PendulumCoord   0.074129  -0.267287   \n",
       "4  double_pendulum_interfaces/msg/PendulumCoord   0.073638  -0.268012   \n",
       "\n",
       "                            data.p2.__msgtype__  \n",
       "0  double_pendulum_interfaces/msg/PendulumCoord  \n",
       "1  double_pendulum_interfaces/msg/PendulumCoord  \n",
       "2  double_pendulum_interfaces/msg/PendulumCoord  \n",
       "3  double_pendulum_interfaces/msg/PendulumCoord  \n",
       "4  double_pendulum_interfaces/msg/PendulumCoord  "
      ]
     },
     "execution_count": 41,
     "metadata": {},
     "output_type": "execute_result"
    }
   ],
   "source": [
    "citros.batch(-1).topic('/coordinates').data().head(5)"
   ]
  },
  {
   "cell_type": "markdown",
   "metadata": {},
   "source": [
    "We can query not all data, but, for example, only time and coordinates of the second pendulum:"
   ]
  },
  {
   "cell_type": "code",
   "execution_count": 43,
   "metadata": {},
   "outputs": [
    {
     "data": {
      "text/html": [
       "<div>\n",
       "<style scoped>\n",
       "    .dataframe tbody tr th:only-of-type {\n",
       "        vertical-align: middle;\n",
       "    }\n",
       "\n",
       "    .dataframe tbody tr th {\n",
       "        vertical-align: top;\n",
       "    }\n",
       "\n",
       "    .dataframe thead th {\n",
       "        text-align: right;\n",
       "    }\n",
       "</style>\n",
       "<table border=\"1\" class=\"dataframe\">\n",
       "  <thead>\n",
       "    <tr style=\"text-align: right;\">\n",
       "      <th></th>\n",
       "      <th>sid</th>\n",
       "      <th>rid</th>\n",
       "      <th>time</th>\n",
       "      <th>topic</th>\n",
       "      <th>type</th>\n",
       "      <th>data.t</th>\n",
       "      <th>data.p2.x</th>\n",
       "      <th>data.p2.y</th>\n",
       "    </tr>\n",
       "  </thead>\n",
       "  <tbody>\n",
       "    <tr>\n",
       "      <th>0</th>\n",
       "      <td>0</td>\n",
       "      <td>0</td>\n",
       "      <td>1700987580629218032</td>\n",
       "      <td>/coordinates</td>\n",
       "      <td>double_pendulum_interfaces/msg/DoublePendulum</td>\n",
       "      <td>0.00</td>\n",
       "      <td>0.074730</td>\n",
       "      <td>-0.266244</td>\n",
       "    </tr>\n",
       "    <tr>\n",
       "      <th>1</th>\n",
       "      <td>0</td>\n",
       "      <td>1</td>\n",
       "      <td>1700987580729140344</td>\n",
       "      <td>/coordinates</td>\n",
       "      <td>double_pendulum_interfaces/msg/DoublePendulum</td>\n",
       "      <td>0.01</td>\n",
       "      <td>0.074665</td>\n",
       "      <td>-0.266366</td>\n",
       "    </tr>\n",
       "    <tr>\n",
       "      <th>2</th>\n",
       "      <td>0</td>\n",
       "      <td>2</td>\n",
       "      <td>1700987580829140627</td>\n",
       "      <td>/coordinates</td>\n",
       "      <td>double_pendulum_interfaces/msg/DoublePendulum</td>\n",
       "      <td>0.02</td>\n",
       "      <td>0.074467</td>\n",
       "      <td>-0.266723</td>\n",
       "    </tr>\n",
       "    <tr>\n",
       "      <th>3</th>\n",
       "      <td>0</td>\n",
       "      <td>3</td>\n",
       "      <td>1700987580929154725</td>\n",
       "      <td>/coordinates</td>\n",
       "      <td>double_pendulum_interfaces/msg/DoublePendulum</td>\n",
       "      <td>0.03</td>\n",
       "      <td>0.074129</td>\n",
       "      <td>-0.267287</td>\n",
       "    </tr>\n",
       "    <tr>\n",
       "      <th>4</th>\n",
       "      <td>0</td>\n",
       "      <td>4</td>\n",
       "      <td>1700987581029186190</td>\n",
       "      <td>/coordinates</td>\n",
       "      <td>double_pendulum_interfaces/msg/DoublePendulum</td>\n",
       "      <td>0.04</td>\n",
       "      <td>0.073638</td>\n",
       "      <td>-0.268012</td>\n",
       "    </tr>\n",
       "  </tbody>\n",
       "</table>\n",
       "</div>"
      ],
      "text/plain": [
       "   sid  rid                 time         topic  \\\n",
       "0    0    0  1700987580629218032  /coordinates   \n",
       "1    0    1  1700987580729140344  /coordinates   \n",
       "2    0    2  1700987580829140627  /coordinates   \n",
       "3    0    3  1700987580929154725  /coordinates   \n",
       "4    0    4  1700987581029186190  /coordinates   \n",
       "\n",
       "                                            type  data.t  data.p2.x  data.p2.y  \n",
       "0  double_pendulum_interfaces/msg/DoublePendulum    0.00   0.074730  -0.266244  \n",
       "1  double_pendulum_interfaces/msg/DoublePendulum    0.01   0.074665  -0.266366  \n",
       "2  double_pendulum_interfaces/msg/DoublePendulum    0.02   0.074467  -0.266723  \n",
       "3  double_pendulum_interfaces/msg/DoublePendulum    0.03   0.074129  -0.267287  \n",
       "4  double_pendulum_interfaces/msg/DoublePendulum    0.04   0.073638  -0.268012  "
      ]
     },
     "execution_count": 43,
     "metadata": {},
     "output_type": "execute_result"
    }
   ],
   "source": [
    "citros.batch(-1).topic('/coordinates').data(['data.t', 'data.p2.x', 'data.p2.y']).head(5)"
   ]
  },
  {
   "cell_type": "markdown",
   "metadata": {},
   "source": [
    "Let's query data and plot the animation of the pendulum motion:"
   ]
  },
  {
   "cell_type": "code",
   "execution_count": 4,
   "metadata": {},
   "outputs": [],
   "source": [
    "F = citros.batch(-1).topic('/coordinates').data()"
   ]
  },
  {
   "cell_type": "code",
   "execution_count": 5,
   "metadata": {},
   "outputs": [
    {
     "data": {
      "image/png": "[encoded data removed]",
      "text/plain": [
       "<Figure size 600x600 with 1 Axes>"
      ]
     },
     "metadata": {},
     "output_type": "display_data"
    }
   ],
   "source": [
    "import matplotlib.pyplot as plt\n",
    "from collections import deque\n",
    "\n",
    "max_y = max(abs(F['data.p2.y']))*1.2\n",
    "fig = plt.figure(figsize = (6,6))\n",
    "ax = fig.add_subplot(111, autoscale_on=False, xlim=(-max_y, max_y), ylim=(-max_y, 0.1))\n",
    "ax.set_aspect('equal', 'datalim')\n",
    "ax.grid()\n",
    "\n",
    "# length of the history trace\n",
    "trace_len = 100\n",
    "line1, = ax.plot([], [], 'o-', lw=2)\n",
    "line2, = ax.plot([], [], 'o-', lw=2)\n",
    "trace, = ax.plot([], [], 'b-', lw=0.5, ms=1)\n",
    "time_text = ax.text(0.02, 0.90, '', transform=ax.transAxes)\n",
    "trace_x, trace_y = deque(maxlen=trace_len), deque(maxlen=trace_len)\n",
    "\n",
    "plt.close()\n",
    "def init():\n",
    "    line1.set_data([], [])\n",
    "    line2.set_data([], [])\n",
    "    trace.set_data([], [])\n",
    "    time_text.set_text('')\n",
    "    trace_x.clear()\n",
    "    trace_y.clear()\n",
    "    return line1, line2, trace, time_text\n",
    "\n",
    "def animate(i):\n",
    "    trace_x.appendleft(F['data.p2.x'].iloc[i])\n",
    "    trace_y.appendleft(F['data.p2.y'].iloc[i])\n",
    "\n",
    "    line1.set_data([[F['data.p1.x'].iloc[i],F['data.p2.x'].iloc[i]],[F['data.p1.y'].iloc[i], F['data.p2.y'].iloc[i]]])\n",
    "    line2.set_data([[0,F['data.p1.x'].iloc[i]],[0, F['data.p1.y'].iloc[i]]])\n",
    "    trace.set_data(trace_x, trace_y)\n",
    "\n",
    "    time_text.set_text('Time = %.3f s' % F['data.t'].iloc[i])\n",
    "    return line1, line2, trace, time_text\n",
    "\n",
    "for i in range(len(F)):\n",
    "    animate(i)\n",
    "\n",
    "    display(fig, clear=True)"
   ]
  }
 ],
 "metadata": {
  "kernelspec": {
   "display_name": "Python 3",
   "language": "python",
   "name": "python3"
  },
  "language_info": {
   "codemirror_mode": {
    "name": "ipython",
    "version": 3
   },
   "file_extension": ".py",
   "mimetype": "text/x-python",
   "name": "python",
   "nbconvert_exporter": "python",
   "pygments_lexer": "ipython3",
   "version": "3.10.6"
  }
 },
 "nbformat": 4,
 "nbformat_minor": 2
}
