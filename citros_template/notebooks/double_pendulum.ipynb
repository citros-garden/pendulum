{
 "cells": [
  {
   "cell_type": "markdown",
   "metadata": {},
   "source": [
    "# Double Pendulum\n",
    "\n",
    "## Table of Contents\n",
    "\n",
    "- [Batches and the Data Structure](#batches-and-the-data-structure)\n",
    "- [Query Data](#query-data)\n",
    "- [Initial Parameters](#initial-parameters)\n",
    "- [Pendulum Motion Animation](#pendulum-motion-animation)\n",
    "- [Plot Trajectories. Variations in Initial Angles](#plot-trajectories-variations-in-initial-angles)\n",
    "- [Statistics](#statistics)\n",
    "- [Standard Deviation Boundary Test](#standard-deviation-boundary-test)"
   ]
  },
  {
   "cell_type": "markdown",
   "metadata": {},
   "source": [
    "## Batches and the Data Structure\n",
    "\n",
    "We conducted simulations of the double pendulum system with varying initial parameters:\n",
    "\n",
    "- In the batch 'double_pendulum_angles' we varied the initial angles of the first pendulum by selecting values randomly from a normal distribution with a mean of 120 degrees and a standard deviation of 5 degrees.\n",
    "\n",
    "- In the batch 'double_pendulum_vel' we varied the initial velocity of the second pendulum, choosing values randomly from a normal distribution with a mean of 90 degrees per second and a standard deviation of 5 degrees per second."
   ]
  },
  {
   "cell_type": "code",
   "execution_count": null,
   "metadata": {},
   "outputs": [],
   "source": [
    "from citros_data_analysis import data_access as da"
   ]
  },
  {
   "cell_type": "markdown",
   "metadata": {},
   "source": [
    "Let's create CitrosDB object to query and plot the results of the simulations. Let's specify that we would like to see batches that were created with double pendulum simulation scenario:"
   ]
  },
  {
   "cell_type": "code",
   "execution_count": null,
   "metadata": {},
   "outputs": [],
   "source": [
    "citros = da.CitrosDB(simulation = 'simulation_double_pendulum')"
   ]
  },
  {
   "cell_type": "markdown",
   "metadata": {},
   "source": [
    "To print information about all batches created in 'simulation_double_pendulum' simulation, call `search_batch()`:"
   ]
  },
  {
   "cell_type": "code",
   "execution_count": null,
   "metadata": {},
   "outputs": [],
   "source": [
    "citros.search_batch().print()"
   ]
  },
  {
   "cell_type": "markdown",
   "metadata": {},
   "source": [
    "Let's print the names of the batches containing simulations with the status 'DONE'. This indicates that the simulations have successfully finished:"
   ]
  },
  {
   "cell_type": "code",
   "execution_count": null,
   "metadata": {},
   "outputs": [],
   "source": [
    "list(citros.search_batch(sid_status='DONE').keys())"
   ]
  },
  {
   "cell_type": "markdown",
   "metadata": {},
   "source": [
    "Print general information about the most recent simulation. In this simulation we have two topics: '/config' and '/coordinates':"
   ]
  },
  {
   "cell_type": "code",
   "execution_count": null,
   "metadata": {},
   "outputs": [],
   "source": [
    "citros.batch(-1).info().print()"
   ]
  },
  {
   "cell_type": "markdown",
   "metadata": {},
   "source": [
    "Topic '/config' contains initial parameters of the simulation, topic '/coordinates' contains result of the simulation. Let's look on data structure of the topic '/coordinates':"
   ]
  },
  {
   "cell_type": "code",
   "execution_count": null,
   "metadata": {},
   "outputs": [],
   "source": [
    "citros.batch(-1).topic('/coordinates').info().print()"
   ]
  },
  {
   "cell_type": "markdown",
   "metadata": {},
   "source": [
    "As we stated in the README, the result of the simulation has the following structure: there is time coordinate 'data.t' and two coordinates of the two pendulums: data.p1.x, data.p1.y, data.p2.x, data.p2.y; there is also a record about the type of the ros message:"
   ]
  },
  {
   "cell_type": "code",
   "execution_count": null,
   "metadata": {},
   "outputs": [],
   "source": [
    "citros.batch(-1).topic('/coordinates').info()['topics']['/coordinates']['data_structure']['data'].print()"
   ]
  },
  {
   "cell_type": "markdown",
   "metadata": {},
   "source": [
    "## Query Data\n",
    "\n",
    "Let's query data by `data()` method. If we call `data()` method without arguments we get all data separated by columns.\n",
    "\n",
    "\n",
    "The output of the `data()` method is a pandas.DataFrame, so every method of the pandas.DataFrame can be applied to the result of the query.\n",
    "Here by `head()` method we left only first 5 rows of the output:"
   ]
  },
  {
   "cell_type": "code",
   "execution_count": null,
   "metadata": {},
   "outputs": [],
   "source": [
    "citros.batch(-1).topic('/coordinates').data().head(5)"
   ]
  },
  {
   "cell_type": "markdown",
   "metadata": {},
   "source": [
    "We can query not all data, but, for example, only time and coordinates of the second pendulum:"
   ]
  },
  {
   "cell_type": "code",
   "execution_count": null,
   "metadata": {},
   "outputs": [],
   "source": [
    "citros.batch(-1).topic('/coordinates').data(['data.t', 'data.p2.x', 'data.p2.y']).head(5)"
   ]
  },
  {
   "cell_type": "markdown",
   "metadata": {},
   "source": [
    "## Initial Parameters\n",
    "\n",
    "In '/config' topic we can find all the initial parameters. It is convenient to get them as a dictionary:"
   ]
  },
  {
   "cell_type": "code",
   "execution_count": null,
   "metadata": {},
   "outputs": [],
   "source": [
    "name = 'data.double_pendulum.ros__parameters'\n",
    "params = citros.batch(-1).topic('/config').data(name, additional_columns='sid')\n",
    "params = params[params[name].notna()].set_index('sid')[name]\n",
    "\n",
    "print(f\"pandas.Series with initial parameters for the simulation runs:\\n{params}\")\n",
    "print(f\"\\ndict with paramaters for the sid = 0:\\n{params[0]}\")\n",
    "print(f\"\\ninitial angle for the sid = 0:\\na1_0 = {params[0]['a1_0']}\")"
   ]
  },
  {
   "cell_type": "markdown",
   "metadata": {},
   "source": [
    "## Pendulum Motion Animation\n",
    "\n",
    "Let's query data and plot the animation of the pendulum motion for the first 5 second of one of the simulation run, for example for sid = 0:"
   ]
  },
  {
   "cell_type": "code",
   "execution_count": null,
   "metadata": {},
   "outputs": [],
   "source": [
    "F = citros.batch(-1).sid(0).set_filter({'data.t': {'<=': 5}}).topic('/coordinates').data()"
   ]
  },
  {
   "cell_type": "code",
   "execution_count": null,
   "metadata": {},
   "outputs": [],
   "source": [
    "import matplotlib.pyplot as plt\n",
    "from collections import deque\n",
    "\n",
    "def animate(F):\n",
    "    # length of the history trace\n",
    "    trace_len = 100\n",
    "\n",
    "    max_y_0 = abs(min(F['data.p2.y']))*1.2\n",
    "    max_y_1 = max([max(F['data.p1.y']), max(F['data.p2.y'])])*1.2\n",
    "    max_x = max([max(abs(F['data.p1.x'])), max(abs(F['data.p2.x'])), 0.1])*1.2\n",
    "    fig = plt.figure()\n",
    "    ax = fig.add_subplot(111, autoscale_on=False, xlim=(-max_x, max_x), ylim=(-max_y_0, max_y_1))\n",
    "    ax.set_aspect('equal', 'datalim')\n",
    "    ax.grid()\n",
    "\n",
    "    line1, = ax.plot([], [], 'o-', lw=2)\n",
    "    line2, = ax.plot([], [], 'o-', lw=2)\n",
    "    trace, = ax.plot([], [], 'b-', lw=0.5, ms=1)\n",
    "    time_text = ax.text(0.02, 0.90, '', transform=ax.transAxes)\n",
    "    trace_x, trace_y = deque(maxlen=trace_len), deque(maxlen=trace_len)\n",
    "\n",
    "    plt.close()\n",
    "    def init():\n",
    "        line1.set_data([], [])\n",
    "        line2.set_data([], [])\n",
    "        trace.set_data([], [])\n",
    "        time_text.set_text('')\n",
    "        trace_x.clear()\n",
    "        trace_y.clear()\n",
    "        return line1, line2, trace, time_text\n",
    "\n",
    "    def animate_frame(i):\n",
    "        trace_x.appendleft(F['data.p2.x'].iloc[i])\n",
    "        trace_y.appendleft(F['data.p2.y'].iloc[i])\n",
    "\n",
    "        line1.set_data([[F['data.p1.x'].iloc[i],F['data.p2.x'].iloc[i]],[F['data.p1.y'].iloc[i], F['data.p2.y'].iloc[i]]])\n",
    "        line2.set_data([[0,F['data.p1.x'].iloc[i]],[0, F['data.p1.y'].iloc[i]]])\n",
    "        trace.set_data(trace_x, trace_y)\n",
    "\n",
    "        time_text.set_text('Time = %.3f s' % F['data.t'].iloc[i])\n",
    "        return line1, line2, trace, time_text\n",
    "    \n",
    "    init()\n",
    "    for i in range(len(F)):\n",
    "        animate_frame(i)\n",
    "        display(fig, clear=True)\n",
    "\n",
    "animate(F)"
   ]
  },
  {
   "cell_type": "markdown",
   "metadata": {},
   "source": [
    "The animation playback speed depends on the length of the data. If the animation is too slow, you just can decrees the number of messages in query by averaging or picking every n-th message. For example, to select every 5th message:"
   ]
  },
  {
   "cell_type": "code",
   "execution_count": null,
   "metadata": {},
   "outputs": [],
   "source": [
    "F = citros.batch(-1).sid(0).skip(5).set_filter({'data.t': {'<=': 5}}).topic('/coordinates').data()\n",
    "animate(F)"
   ]
  },
  {
   "cell_type": "markdown",
   "metadata": {},
   "source": [
    "## Plot Trajectories. Variations in Initial Angles\n",
    "\n",
    "Small variations in the initial parameters of the double pendulum system lead to significant changes in trajectories.\n",
    "Let's plot the trajectories for simulations where either initial angle or initial velocities are varied.\n",
    "\n",
    "Previously we made a simulation with different initial angles of the first pendulum.\n",
    "We can print the initial angles using the '/config' topic:"
   ]
  },
  {
   "cell_type": "code",
   "execution_count": null,
   "metadata": {},
   "outputs": [],
   "source": [
    "col_name = 'data.double_pendulum.ros__parameters.a1_0'\n",
    "\n",
    "a1_0 = citros.batch(-1).topic('/config').data(col_name, additional_columns='sid').rename({col_name: 'a1_0'}, axis = 1)\n",
    "a1_0 = a1_0 [a1_0 ['a1_0'].notna()].set_index('sid')\n",
    "a1_0"
   ]
  },
  {
   "cell_type": "markdown",
   "metadata": {},
   "source": [
    "Let's plot the trajectory of the second pendulum from the different simulations:"
   ]
  },
  {
   "cell_type": "code",
   "execution_count": null,
   "metadata": {},
   "outputs": [],
   "source": [
    "F = citros.batch(-1).topic('/coordinates').data()\n",
    "citros.plot_graph(F, 'data.p2.x', 'data.p2.y')"
   ]
  },
  {
   "cell_type": "markdown",
   "metadata": {},
   "source": [
    "Let's plot the trajectory of the second pendulum from the first and second simulations:"
   ]
  },
  {
   "cell_type": "code",
   "execution_count": null,
   "metadata": {},
   "outputs": [],
   "source": [
    "F = citros.batch(-1).topic('/coordinates').sid([1,2]).data()\n",
    "citros.plot_graph(F, 'data.p2.x', 'data.p2.y')"
   ]
  },
  {
   "cell_type": "markdown",
   "metadata": {},
   "source": [
    "## Statistics\n",
    "\n",
    "We can examine how the coordinates of the second pendulum, along with their mean values and standard deviations, change over time using the `citros_data_analysis.error_analysis` package:"
   ]
  },
  {
   "cell_type": "code",
   "execution_count": null,
   "metadata": {},
   "outputs": [],
   "source": [
    "from citros_data_analysis import error_analysis as analysis\n",
    "\n",
    "F = citros.batch(-1).topic('/coordinates').data()\n",
    "dataset = analysis.CitrosData(F, data_label=['data.p2.x', 'data.p2.y'], units = 'm')\n",
    "db = dataset.bin_data(n_bins = 50, param_label = 'data.t')\n",
    "db.show_statistics()"
   ]
  },
  {
   "cell_type": "markdown",
   "metadata": {},
   "source": [
    "Let's plot the scatter plot of the last points of the simulation (around 'data.t' = 10). Let's also depict 1-, 2-, 3-sigma error ellipses and print parameters of the 1-sigma ellipse:"
   ]
  },
  {
   "cell_type": "code",
   "execution_count": null,
   "metadata": {},
   "outputs": [],
   "source": [
    "ellipse_param = db.show_correlation(x_col = 'data.p2.x', y_col = 'data.p2.y',\n",
    "                      slice_val = 10, n_std = [1,2,3], return_ellipse_param = True)\n",
    "ellipse_param[0]"
   ]
  },
  {
   "cell_type": "markdown",
   "metadata": {},
   "source": [
    "## Standard Deviation Boundary Test\n",
    "\n",
    "By utilizing different tests from the `citros_data_analysis.validation` package, you can quickly determine whether the simulation meets specific conditions. For instance, let's verify if the standard deviation remains within certain limits. Suppose we want to check if the mean value of the coordinates for the second pendulum, along with its 1-sigma standard deviation boundary, falls within a 2.5 x 2.5 box for the 'double_pendulum_angle' batch:"
   ]
  },
  {
   "cell_type": "code",
   "execution_count": null,
   "metadata": {},
   "outputs": [],
   "source": [
    "from citros_data_analysis import validation as va\n",
    "\n",
    "F = citros.batch(-1).topic('/coordinates').data()\n",
    "V = va.Validation(F, data_label = ['data.p2.x', 'data.p2.y'], param_label = 'data.t', method = 'bin', num = 50, units = 'm')\n",
    "log, table, fig = V.std_bound_test(limits = 2.5, n_std = 1, std_area = True)"
   ]
  },
  {
   "cell_type": "code",
   "execution_count": null,
   "metadata": {},
   "outputs": [],
   "source": [
    "ref = da.Ref()\n",
    "ref.print()"
   ]
  }
 ],
 "metadata": {
  "kernelspec": {
   "display_name": "Python 3",
   "language": "python",
   "name": "python3"
  },
  "language_info": {
   "codemirror_mode": {
    "name": "ipython",
    "version": 3
   },
   "file_extension": ".py",
   "mimetype": "text/x-python",
   "name": "python",
   "nbconvert_exporter": "python",
   "pygments_lexer": "ipython3",
   "version": "3.10.6"
  }
 },
 "nbformat": 4,
 "nbformat_minor": 2
}
