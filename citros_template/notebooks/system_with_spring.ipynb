{
 "cells": [
  {
   "cell_type": "code",
   "execution_count": 2,
   "metadata": {},
   "outputs": [],
   "source": [
    "from citros_data_analysis import data_access as da"
   ]
  },
  {
   "cell_type": "markdown",
   "metadata": {},
   "source": [
    "# System with spring"
   ]
  },
  {
   "cell_type": "markdown",
   "metadata": {},
   "source": [
    "Let's create CitrosDB obkect to query and plot the results of the simulation. Let's specify that we would like to see batches that were created with system with spring simulation scenario:"
   ]
  },
  {
   "cell_type": "code",
   "execution_count": 3,
   "metadata": {},
   "outputs": [],
   "source": [
    "citros = da.CitrosDB(simulation = 'simulation_system_with_spring')"
   ]
  },
  {
   "cell_type": "code",
   "execution_count": 4,
   "metadata": {},
   "outputs": [
    {
     "data": {
      "text/plain": [
       "{'cloud_test_system_with_spring_1': {'id': '24c1988a-e6d9-4270-a776-a90554102ea7',\n",
       "  'sid': [0],\n",
       "  'created_at': '2023-11-26T08:37:36.041625+00:00',\n",
       "  'updated_at': '2023-11-26T08:39:47.74387+00:00',\n",
       "  'status': 'DONE',\n",
       "  'data_status': 'LOADED',\n",
       "  'data_last_access': '2023-11-26T08:37:36.041625+00:00',\n",
       "  'tag': 'afbb2ce8450c715fff4d694bfe2967541c7031e8',\n",
       "  'simulation': 'simulation_system_with_spring',\n",
       "  'message': 'new_data_structure',\n",
       "  'parallelism': 1,\n",
       "  'completions': 1,\n",
       "  'cpu': 2,\n",
       "  'gpu': 0,\n",
       "  'memory': '265',\n",
       "  'repo': 'pendulum',\n",
       "  'link': 'https://citros.io/pendulum/data/runs/simulation_system_with_spring/cloud_test_system_with_spring_1'},\n",
       " 'cloud_test_system_with_spring': {'id': '12dc2316-d71b-40ae-83d8-69c7b5f0f717',\n",
       "  'sid': [0],\n",
       "  'created_at': '2023-11-22T13:48:05.716389+00:00',\n",
       "  'updated_at': '2023-11-26T14:00:00.008791+00:00',\n",
       "  'status': 'DONE',\n",
       "  'data_status': 'UNLOADED',\n",
       "  'data_last_access': '2023-11-22T15:05:17.055811+00:00',\n",
       "  'tag': 'f5cb8e822b32677232cbc398febb27108b074d72',\n",
       "  'simulation': 'simulation_system_with_spring',\n",
       "  'message': 'cloud_test',\n",
       "  'parallelism': 1,\n",
       "  'completions': 1,\n",
       "  'cpu': 2,\n",
       "  'gpu': 0,\n",
       "  'memory': '265',\n",
       "  'repo': 'pendulum',\n",
       "  'link': 'https://citros.io/pendulum/data/runs/simulation_system_with_spring/cloud_test_system_with_spring'}}"
      ]
     },
     "execution_count": 4,
     "metadata": {},
     "output_type": "execute_result"
    }
   ],
   "source": [
    "citros.search_batch()"
   ]
  },
  {
   "cell_type": "markdown",
   "metadata": {},
   "source": [
    "Let's print the names of the batches containing simulations with the status 'DONE'. This indicates that the simulations have successfully finished:"
   ]
  },
  {
   "cell_type": "code",
   "execution_count": 5,
   "metadata": {},
   "outputs": [
    {
     "data": {
      "text/plain": [
       "['cloud_test_system_with_spring_1', 'cloud_test_system_with_spring']"
      ]
     },
     "execution_count": 5,
     "metadata": {},
     "output_type": "execute_result"
    }
   ],
   "source": [
    "list(citros.search_batch(sid_status='DONE').keys())"
   ]
  },
  {
   "cell_type": "markdown",
   "metadata": {},
   "source": [
    "Print general information about the most recent simulation. In this simulation we have two topics: '/config' and '/coordinates':"
   ]
  },
  {
   "cell_type": "code",
   "execution_count": 6,
   "metadata": {},
   "outputs": [
    {
     "name": "stdout",
     "output_type": "stream",
     "text": [
      "{\n",
      " 'size': '792 kB',\n",
      " 'sid_count': 1,\n",
      " 'sid_list': [0],\n",
      " 'topic_count': 2,\n",
      " 'topic_list': ['/config', '/coordinates'],\n",
      " 'message_count': 1003\n",
      "}\n"
     ]
    }
   ],
   "source": [
    "citros.batch(-1).info().print()"
   ]
  },
  {
   "cell_type": "markdown",
   "metadata": {},
   "source": [
    "Topic '/config' contains initial parameters of the simulation, topic '/coordinates' contains result of the simulation. Let's look on data structure of the topic '/coordinates':"
   ]
  },
  {
   "cell_type": "code",
   "execution_count": 7,
   "metadata": {},
   "outputs": [
    {
     "name": "stdout",
     "output_type": "stream",
     "text": [
      "{\n",
      " 'size': '791 kB',\n",
      " 'sid_count': 1,\n",
      " 'sid_list': [0],\n",
      " 'topic_count': 1,\n",
      " 'topic_list': ['/coordinates'],\n",
      " 'message_count': 1001,\n",
      " 'topics': {\n",
      "   '/coordinates': {\n",
      "     'type': 'system_with_spring_interfaces/msg/SpringSystem',\n",
      "     'data_structure': {\n",
      "       'data': {\n",
      "         't': 'float',\n",
      "         'p1': {\n",
      "           'x': 'float',\n",
      "           'y': 'float',\n",
      "           '__msgtype__': 'str'\n",
      "         },\n",
      "         'p2': {\n",
      "           'x': 'float',\n",
      "           'y': 'float',\n",
      "           '__msgtype__': 'str'\n",
      "         },\n",
      "         'p3': {\n",
      "           'x': 'float',\n",
      "           'y': 'float',\n",
      "           '__msgtype__': 'str'\n",
      "         },\n",
      "         'spr': {\n",
      "           'x0': 'float',\n",
      "           'x1': 'float',\n",
      "           'y0': 'float',\n",
      "           'y1': 'float',\n",
      "           '__msgtype__': 'str'\n",
      "         },\n",
      "         '__msgtype__': 'str'\n",
      "       }\n",
      "     },\n",
      "     'message_count': 1001\n",
      "   }\n",
      " }\n",
      "}\n"
     ]
    }
   ],
   "source": [
    "citros.batch(-1).topic('/coordinates').info().print()"
   ]
  },
  {
   "cell_type": "markdown",
   "metadata": {},
   "source": [
    "As we stated in the README, the result of the simulation has the following structure: there is time coordinate 'data.t', two coordinates of the three pendulums: data.p1.x, data.p1.y, data.p2.x, data.p2.y, data.p3.x, data.p3.y and coordinates of the start and end of the spring: data.spr.x0, data.spr.x1, data.spr.y0, data.spr.y1:"
   ]
  },
  {
   "cell_type": "code",
   "execution_count": 8,
   "metadata": {},
   "outputs": [
    {
     "name": "stdout",
     "output_type": "stream",
     "text": [
      "{\n",
      " 't': 'float',\n",
      " 'p1': {\n",
      "   'x': 'float',\n",
      "   'y': 'float',\n",
      "   '__msgtype__': 'str'\n",
      " },\n",
      " 'p2': {\n",
      "   'x': 'float',\n",
      "   'y': 'float',\n",
      "   '__msgtype__': 'str'\n",
      " },\n",
      " 'p3': {\n",
      "   'x': 'float',\n",
      "   'y': 'float',\n",
      "   '__msgtype__': 'str'\n",
      " },\n",
      " 'spr': {\n",
      "   'x0': 'float',\n",
      "   'x1': 'float',\n",
      "   'y0': 'float',\n",
      "   'y1': 'float',\n",
      "   '__msgtype__': 'str'\n",
      " },\n",
      " '__msgtype__': 'str'\n",
      "}\n"
     ]
    }
   ],
   "source": [
    "citros.batch(-1).topic('/coordinates').info()['topics']['/coordinates']['data_structure']['data'].print()"
   ]
  },
  {
   "cell_type": "markdown",
   "metadata": {},
   "source": [
    "Let's query data by `data()` method. If we call `data()` method without arguments we get all data separated by columns.\n",
    "\n",
    "\n",
    "The output of the `data()` method is a pandas.DataFrame, so every method of the pandas.DataFrame can be applied to the result of the query.\n",
    "Here by `head()` method we left only first 5 rows of the output"
   ]
  },
  {
   "cell_type": "code",
   "execution_count": 9,
   "metadata": {},
   "outputs": [
    {
     "data": {
      "text/html": [
       "<div>\n",
       "<style scoped>\n",
       "    .dataframe tbody tr th:only-of-type {\n",
       "        vertical-align: middle;\n",
       "    }\n",
       "\n",
       "    .dataframe tbody tr th {\n",
       "        vertical-align: top;\n",
       "    }\n",
       "\n",
       "    .dataframe thead th {\n",
       "        text-align: right;\n",
       "    }\n",
       "</style>\n",
       "<table border=\"1\" class=\"dataframe\">\n",
       "  <thead>\n",
       "    <tr style=\"text-align: right;\">\n",
       "      <th></th>\n",
       "      <th>sid</th>\n",
       "      <th>rid</th>\n",
       "      <th>time</th>\n",
       "      <th>topic</th>\n",
       "      <th>type</th>\n",
       "      <th>data.t</th>\n",
       "      <th>data.__msgtype__</th>\n",
       "      <th>data.p1.x</th>\n",
       "      <th>data.p1.y</th>\n",
       "      <th>data.p1.__msgtype__</th>\n",
       "      <th>...</th>\n",
       "      <th>data.p2.y</th>\n",
       "      <th>data.p2.__msgtype__</th>\n",
       "      <th>data.p3.x</th>\n",
       "      <th>data.p3.y</th>\n",
       "      <th>data.p3.__msgtype__</th>\n",
       "      <th>data.spr.x0</th>\n",
       "      <th>data.spr.x1</th>\n",
       "      <th>data.spr.y0</th>\n",
       "      <th>data.spr.y1</th>\n",
       "      <th>data.spr.__msgtype__</th>\n",
       "    </tr>\n",
       "  </thead>\n",
       "  <tbody>\n",
       "    <tr>\n",
       "      <th>0</th>\n",
       "      <td>0</td>\n",
       "      <td>0</td>\n",
       "      <td>1700987864237335738</td>\n",
       "      <td>/coordinates</td>\n",
       "      <td>system_with_spring_interfaces/msg/SpringSystem</td>\n",
       "      <td>0.00</td>\n",
       "      <td>system_with_spring_interfaces/msg/SpringSystem</td>\n",
       "      <td>0.140000</td>\n",
       "      <td>-0.069282</td>\n",
       "      <td>system_with_spring_interfaces/msg/PendulumCoord</td>\n",
       "      <td>...</td>\n",
       "      <td>-0.266244</td>\n",
       "      <td>system_with_spring_interfaces/msg/PendulumCoord</td>\n",
       "      <td>-0.160000</td>\n",
       "      <td>-0.277128</td>\n",
       "      <td>system_with_spring_interfaces/msg/PendulumCoord</td>\n",
       "      <td>-0.070000</td>\n",
       "      <td>0.150419</td>\n",
       "      <td>-0.121244</td>\n",
       "      <td>-0.128370</td>\n",
       "      <td>system_with_spring_interfaces/msg/SpringCoord</td>\n",
       "    </tr>\n",
       "    <tr>\n",
       "      <th>1</th>\n",
       "      <td>0</td>\n",
       "      <td>1</td>\n",
       "      <td>1700987864337226048</td>\n",
       "      <td>/coordinates</td>\n",
       "      <td>system_with_spring_interfaces/msg/SpringSystem</td>\n",
       "      <td>0.01</td>\n",
       "      <td>system_with_spring_interfaces/msg/SpringSystem</td>\n",
       "      <td>0.139666</td>\n",
       "      <td>-0.069474</td>\n",
       "      <td>system_with_spring_interfaces/msg/PendulumCoord</td>\n",
       "      <td>...</td>\n",
       "      <td>-0.266397</td>\n",
       "      <td>system_with_spring_interfaces/msg/PendulumCoord</td>\n",
       "      <td>-0.159585</td>\n",
       "      <td>-0.277367</td>\n",
       "      <td>system_with_spring_interfaces/msg/PendulumCoord</td>\n",
       "      <td>-0.069819</td>\n",
       "      <td>0.150149</td>\n",
       "      <td>-0.121348</td>\n",
       "      <td>-0.128551</td>\n",
       "      <td>system_with_spring_interfaces/msg/SpringCoord</td>\n",
       "    </tr>\n",
       "    <tr>\n",
       "      <th>2</th>\n",
       "      <td>0</td>\n",
       "      <td>2</td>\n",
       "      <td>1700987864437201715</td>\n",
       "      <td>/coordinates</td>\n",
       "      <td>system_with_spring_interfaces/msg/SpringSystem</td>\n",
       "      <td>0.02</td>\n",
       "      <td>system_with_spring_interfaces/msg/SpringSystem</td>\n",
       "      <td>0.138660</td>\n",
       "      <td>-0.070038</td>\n",
       "      <td>system_with_spring_interfaces/msg/PendulumCoord</td>\n",
       "      <td>...</td>\n",
       "      <td>-0.266846</td>\n",
       "      <td>system_with_spring_interfaces/msg/PendulumCoord</td>\n",
       "      <td>-0.158341</td>\n",
       "      <td>-0.278079</td>\n",
       "      <td>system_with_spring_interfaces/msg/PendulumCoord</td>\n",
       "      <td>-0.069274</td>\n",
       "      <td>0.149337</td>\n",
       "      <td>-0.121660</td>\n",
       "      <td>-0.129081</td>\n",
       "      <td>system_with_spring_interfaces/msg/SpringCoord</td>\n",
       "    </tr>\n",
       "    <tr>\n",
       "      <th>3</th>\n",
       "      <td>0</td>\n",
       "      <td>3</td>\n",
       "      <td>1700987864537237367</td>\n",
       "      <td>/coordinates</td>\n",
       "      <td>system_with_spring_interfaces/msg/SpringSystem</td>\n",
       "      <td>0.03</td>\n",
       "      <td>system_with_spring_interfaces/msg/SpringSystem</td>\n",
       "      <td>0.136981</td>\n",
       "      <td>-0.070939</td>\n",
       "      <td>system_with_spring_interfaces/msg/PendulumCoord</td>\n",
       "      <td>...</td>\n",
       "      <td>-0.267551</td>\n",
       "      <td>system_with_spring_interfaces/msg/PendulumCoord</td>\n",
       "      <td>-0.156268</td>\n",
       "      <td>-0.279250</td>\n",
       "      <td>system_with_spring_interfaces/msg/PendulumCoord</td>\n",
       "      <td>-0.068367</td>\n",
       "      <td>0.147979</td>\n",
       "      <td>-0.122172</td>\n",
       "      <td>-0.129923</td>\n",
       "      <td>system_with_spring_interfaces/msg/SpringCoord</td>\n",
       "    </tr>\n",
       "    <tr>\n",
       "      <th>4</th>\n",
       "      <td>0</td>\n",
       "      <td>4</td>\n",
       "      <td>1700987864637360974</td>\n",
       "      <td>/coordinates</td>\n",
       "      <td>system_with_spring_interfaces/msg/SpringSystem</td>\n",
       "      <td>0.04</td>\n",
       "      <td>system_with_spring_interfaces/msg/SpringSystem</td>\n",
       "      <td>0.134620</td>\n",
       "      <td>-0.072121</td>\n",
       "      <td>system_with_spring_interfaces/msg/PendulumCoord</td>\n",
       "      <td>...</td>\n",
       "      <td>-0.268449</td>\n",
       "      <td>system_with_spring_interfaces/msg/PendulumCoord</td>\n",
       "      <td>-0.153366</td>\n",
       "      <td>-0.280854</td>\n",
       "      <td>system_with_spring_interfaces/msg/PendulumCoord</td>\n",
       "      <td>-0.067098</td>\n",
       "      <td>0.146065</td>\n",
       "      <td>-0.122874</td>\n",
       "      <td>-0.131019</td>\n",
       "      <td>system_with_spring_interfaces/msg/SpringCoord</td>\n",
       "    </tr>\n",
       "  </tbody>\n",
       "</table>\n",
       "<p>5 rows × 21 columns</p>\n",
       "</div>"
      ],
      "text/plain": [
       "   sid  rid                 time         topic  \\\n",
       "0    0    0  1700987864237335738  /coordinates   \n",
       "1    0    1  1700987864337226048  /coordinates   \n",
       "2    0    2  1700987864437201715  /coordinates   \n",
       "3    0    3  1700987864537237367  /coordinates   \n",
       "4    0    4  1700987864637360974  /coordinates   \n",
       "\n",
       "                                             type  data.t  \\\n",
       "0  system_with_spring_interfaces/msg/SpringSystem    0.00   \n",
       "1  system_with_spring_interfaces/msg/SpringSystem    0.01   \n",
       "2  system_with_spring_interfaces/msg/SpringSystem    0.02   \n",
       "3  system_with_spring_interfaces/msg/SpringSystem    0.03   \n",
       "4  system_with_spring_interfaces/msg/SpringSystem    0.04   \n",
       "\n",
       "                                 data.__msgtype__  data.p1.x  data.p1.y  \\\n",
       "0  system_with_spring_interfaces/msg/SpringSystem   0.140000  -0.069282   \n",
       "1  system_with_spring_interfaces/msg/SpringSystem   0.139666  -0.069474   \n",
       "2  system_with_spring_interfaces/msg/SpringSystem   0.138660  -0.070038   \n",
       "3  system_with_spring_interfaces/msg/SpringSystem   0.136981  -0.070939   \n",
       "4  system_with_spring_interfaces/msg/SpringSystem   0.134620  -0.072121   \n",
       "\n",
       "                               data.p1.__msgtype__  ...  data.p2.y  \\\n",
       "0  system_with_spring_interfaces/msg/PendulumCoord  ...  -0.266244   \n",
       "1  system_with_spring_interfaces/msg/PendulumCoord  ...  -0.266397   \n",
       "2  system_with_spring_interfaces/msg/PendulumCoord  ...  -0.266846   \n",
       "3  system_with_spring_interfaces/msg/PendulumCoord  ...  -0.267551   \n",
       "4  system_with_spring_interfaces/msg/PendulumCoord  ...  -0.268449   \n",
       "\n",
       "                               data.p2.__msgtype__ data.p3.x  data.p3.y  \\\n",
       "0  system_with_spring_interfaces/msg/PendulumCoord -0.160000  -0.277128   \n",
       "1  system_with_spring_interfaces/msg/PendulumCoord -0.159585  -0.277367   \n",
       "2  system_with_spring_interfaces/msg/PendulumCoord -0.158341  -0.278079   \n",
       "3  system_with_spring_interfaces/msg/PendulumCoord -0.156268  -0.279250   \n",
       "4  system_with_spring_interfaces/msg/PendulumCoord -0.153366  -0.280854   \n",
       "\n",
       "                               data.p3.__msgtype__ data.spr.x0  data.spr.x1  \\\n",
       "0  system_with_spring_interfaces/msg/PendulumCoord   -0.070000     0.150419   \n",
       "1  system_with_spring_interfaces/msg/PendulumCoord   -0.069819     0.150149   \n",
       "2  system_with_spring_interfaces/msg/PendulumCoord   -0.069274     0.149337   \n",
       "3  system_with_spring_interfaces/msg/PendulumCoord   -0.068367     0.147979   \n",
       "4  system_with_spring_interfaces/msg/PendulumCoord   -0.067098     0.146065   \n",
       "\n",
       "   data.spr.y0  data.spr.y1                           data.spr.__msgtype__  \n",
       "0    -0.121244    -0.128370  system_with_spring_interfaces/msg/SpringCoord  \n",
       "1    -0.121348    -0.128551  system_with_spring_interfaces/msg/SpringCoord  \n",
       "2    -0.121660    -0.129081  system_with_spring_interfaces/msg/SpringCoord  \n",
       "3    -0.122172    -0.129923  system_with_spring_interfaces/msg/SpringCoord  \n",
       "4    -0.122874    -0.131019  system_with_spring_interfaces/msg/SpringCoord  \n",
       "\n",
       "[5 rows x 21 columns]"
      ]
     },
     "execution_count": 9,
     "metadata": {},
     "output_type": "execute_result"
    }
   ],
   "source": [
    "citros.batch(-1).topic('/coordinates').data().head(5)"
   ]
  },
  {
   "cell_type": "markdown",
   "metadata": {},
   "source": [
    "We can query not all data, but, for example, only time and coordinates of the second pendulum:"
   ]
  },
  {
   "cell_type": "code",
   "execution_count": 10,
   "metadata": {},
   "outputs": [
    {
     "data": {
      "text/html": [
       "<div>\n",
       "<style scoped>\n",
       "    .dataframe tbody tr th:only-of-type {\n",
       "        vertical-align: middle;\n",
       "    }\n",
       "\n",
       "    .dataframe tbody tr th {\n",
       "        vertical-align: top;\n",
       "    }\n",
       "\n",
       "    .dataframe thead th {\n",
       "        text-align: right;\n",
       "    }\n",
       "</style>\n",
       "<table border=\"1\" class=\"dataframe\">\n",
       "  <thead>\n",
       "    <tr style=\"text-align: right;\">\n",
       "      <th></th>\n",
       "      <th>sid</th>\n",
       "      <th>rid</th>\n",
       "      <th>time</th>\n",
       "      <th>topic</th>\n",
       "      <th>type</th>\n",
       "      <th>data.t</th>\n",
       "      <th>data.p2.x</th>\n",
       "      <th>data.p2.y</th>\n",
       "    </tr>\n",
       "  </thead>\n",
       "  <tbody>\n",
       "    <tr>\n",
       "      <th>0</th>\n",
       "      <td>0</td>\n",
       "      <td>0</td>\n",
       "      <td>1700987864237335738</td>\n",
       "      <td>/coordinates</td>\n",
       "      <td>system_with_spring_interfaces/msg/SpringSystem</td>\n",
       "      <td>0.00</td>\n",
       "      <td>0.174730</td>\n",
       "      <td>-0.266244</td>\n",
       "    </tr>\n",
       "    <tr>\n",
       "      <th>1</th>\n",
       "      <td>0</td>\n",
       "      <td>1</td>\n",
       "      <td>1700987864337226048</td>\n",
       "      <td>/coordinates</td>\n",
       "      <td>system_with_spring_interfaces/msg/SpringSystem</td>\n",
       "      <td>0.01</td>\n",
       "      <td>0.174610</td>\n",
       "      <td>-0.266397</td>\n",
       "    </tr>\n",
       "    <tr>\n",
       "      <th>2</th>\n",
       "      <td>0</td>\n",
       "      <td>2</td>\n",
       "      <td>1700987864437201715</td>\n",
       "      <td>/coordinates</td>\n",
       "      <td>system_with_spring_interfaces/msg/SpringSystem</td>\n",
       "      <td>0.02</td>\n",
       "      <td>0.174250</td>\n",
       "      <td>-0.266846</td>\n",
       "    </tr>\n",
       "    <tr>\n",
       "      <th>3</th>\n",
       "      <td>0</td>\n",
       "      <td>3</td>\n",
       "      <td>1700987864537237367</td>\n",
       "      <td>/coordinates</td>\n",
       "      <td>system_with_spring_interfaces/msg/SpringSystem</td>\n",
       "      <td>0.03</td>\n",
       "      <td>0.173640</td>\n",
       "      <td>-0.267551</td>\n",
       "    </tr>\n",
       "    <tr>\n",
       "      <th>4</th>\n",
       "      <td>0</td>\n",
       "      <td>4</td>\n",
       "      <td>1700987864637360974</td>\n",
       "      <td>/coordinates</td>\n",
       "      <td>system_with_spring_interfaces/msg/SpringSystem</td>\n",
       "      <td>0.04</td>\n",
       "      <td>0.172769</td>\n",
       "      <td>-0.268449</td>\n",
       "    </tr>\n",
       "  </tbody>\n",
       "</table>\n",
       "</div>"
      ],
      "text/plain": [
       "   sid  rid                 time         topic  \\\n",
       "0    0    0  1700987864237335738  /coordinates   \n",
       "1    0    1  1700987864337226048  /coordinates   \n",
       "2    0    2  1700987864437201715  /coordinates   \n",
       "3    0    3  1700987864537237367  /coordinates   \n",
       "4    0    4  1700987864637360974  /coordinates   \n",
       "\n",
       "                                             type  data.t  data.p2.x  \\\n",
       "0  system_with_spring_interfaces/msg/SpringSystem    0.00   0.174730   \n",
       "1  system_with_spring_interfaces/msg/SpringSystem    0.01   0.174610   \n",
       "2  system_with_spring_interfaces/msg/SpringSystem    0.02   0.174250   \n",
       "3  system_with_spring_interfaces/msg/SpringSystem    0.03   0.173640   \n",
       "4  system_with_spring_interfaces/msg/SpringSystem    0.04   0.172769   \n",
       "\n",
       "   data.p2.y  \n",
       "0  -0.266244  \n",
       "1  -0.266397  \n",
       "2  -0.266846  \n",
       "3  -0.267551  \n",
       "4  -0.268449  "
      ]
     },
     "execution_count": 10,
     "metadata": {},
     "output_type": "execute_result"
    }
   ],
   "source": [
    "citros.batch(-1).topic('/coordinates').data(['data.t', 'data.p2.x', 'data.p2.y']).head(5)"
   ]
  },
  {
   "cell_type": "markdown",
   "metadata": {},
   "source": [
    "Let's query data and plot the animation of the system motion:"
   ]
  },
  {
   "cell_type": "code",
   "execution_count": 11,
   "metadata": {},
   "outputs": [],
   "source": [
    "F = citros.batch(-1).topic('/coordinates').data()\n",
    "x0 = citros.batch(-1).topic('/config').data('data.system_with_spring.ros__parameters.x0')['data.system_with_spring.ros__parameters.x0'][0]"
   ]
  },
  {
   "cell_type": "code",
   "execution_count": 25,
   "metadata": {},
   "outputs": [
    {
     "data": {
      "image/png": "[encoded data removed]",
      "text/plain": [
       "<Figure size 600x600 with 1 Axes>"
      ]
     },
     "metadata": {},
     "output_type": "display_data"
    }
   ],
   "source": [
    "import matplotlib.pyplot as plt\n",
    "from collections import deque\n",
    "\n",
    "def animate(F, x0):\n",
    "\n",
    "    # length of the history trace\n",
    "    trace_len = 100\n",
    "\n",
    "    max_y = max(abs(F['data.p2.y']))*1.2\n",
    "    fig = plt.figure(figsize = (6,6))\n",
    "    ax = fig.add_subplot(111, autoscale_on=False, xlim=(-max_y, max_y), ylim=(-max_y, 0.1))\n",
    "    ax.set_aspect('equal', 'datalim')\n",
    "    ax.grid()\n",
    "\n",
    "    line1, = ax.plot([], [], 'o-', lw=2)\n",
    "    line2, = ax.plot([], [], 'o-', lw=2)\n",
    "    line3, = ax.plot([], [], 'o-', lw=2)\n",
    "    line4, = ax.plot([], [], 'm--', lw=1)\n",
    "    trace, = ax.plot([], [], 'b-', lw=0.5, ms=1)\n",
    "    time_text = ax.text(0.02, 0.90, '', transform=ax.transAxes)\n",
    "    trace_x, trace_y = deque(maxlen=trace_len), deque(maxlen=trace_len)\n",
    "\n",
    "    plt.close()\n",
    "    def init():\n",
    "        line1.set_data([], [])\n",
    "        line2.set_data([], [])\n",
    "        trace.set_data([], [])\n",
    "        line3.set_data([], [])\n",
    "        line4.set_data([], [])\n",
    "        time_text.set_text('')\n",
    "        trace_x.clear()\n",
    "        trace_y.clear()\n",
    "        return line1, line2, trace, time_text\n",
    "\n",
    "    def animate_frame(i):\n",
    "        trace_x.appendleft(F['data.p2.x'].iloc[i])\n",
    "        trace_y.appendleft(F['data.p2.y'].iloc[i])\n",
    "\n",
    "        line1.set_data([[F['data.p1.x'].iloc[i],F['data.p2.x'].iloc[i]],[F['data.p1.y'].iloc[i], F['data.p2.y'].iloc[i]]])\n",
    "        line2.set_data([[x0,F['data.p1.x'].iloc[i]],[0, F['data.p1.y'].iloc[i]]])\n",
    "        line3.set_data([[0,F['data.p3.x'].iloc[i]],[0, F['data.p3.y'].iloc[i]]])\n",
    "        line4.set_data([[F['data.spr.x0'].iloc[i],F['data.spr.x1'].iloc[i]],[F['data.spr.y0'].iloc[i], F['data.spr.y1'].iloc[i]]])\n",
    "        trace.set_data(trace_x, trace_y)\n",
    "\n",
    "        time_text.set_text('Time = %.3f s' % F['data.t'].iloc[i])\n",
    "        return line1, line2, line3, line4, trace, time_text\n",
    "\n",
    "    for i in range(len(F)):\n",
    "        animate_frame(i)\n",
    "        display(fig, clear=True)"
   ]
  }
 ],
 "metadata": {
  "kernelspec": {
   "display_name": "Python 3",
   "language": "python",
   "name": "python3"
  },
  "language_info": {
   "codemirror_mode": {
    "name": "ipython",
    "version": 3
   },
   "file_extension": ".py",
   "mimetype": "text/x-python",
   "name": "python",
   "nbconvert_exporter": "python",
   "pygments_lexer": "ipython3",
   "version": "3.10.6"
  }
 },
 "nbformat": 4,
 "nbformat_minor": 2
}
